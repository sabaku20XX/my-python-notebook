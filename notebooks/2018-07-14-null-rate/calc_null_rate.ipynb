{
 "cells": [
  {
   "cell_type": "markdown",
   "metadata": {},
   "source": [
    "## Make random DataFrame"
   ]
  },
  {
   "cell_type": "code",
   "execution_count": 1,
   "metadata": {},
   "outputs": [],
   "source": [
    "import numpy\n",
    "import pandas"
   ]
  },
  {
   "cell_type": "code",
   "execution_count": 2,
   "metadata": {},
   "outputs": [
    {
     "data": {
      "text/html": [
       "<div>\n",
       "<style scoped>\n",
       "    .dataframe tbody tr th:only-of-type {\n",
       "        vertical-align: middle;\n",
       "    }\n",
       "\n",
       "    .dataframe tbody tr th {\n",
       "        vertical-align: top;\n",
       "    }\n",
       "\n",
       "    .dataframe thead th {\n",
       "        text-align: right;\n",
       "    }\n",
       "</style>\n",
       "<table border=\"1\" class=\"dataframe\">\n",
       "  <thead>\n",
       "    <tr style=\"text-align: right;\">\n",
       "      <th></th>\n",
       "      <th>0</th>\n",
       "      <th>1</th>\n",
       "      <th>2</th>\n",
       "      <th>3</th>\n",
       "      <th>4</th>\n",
       "      <th>5</th>\n",
       "      <th>6</th>\n",
       "      <th>7</th>\n",
       "      <th>8</th>\n",
       "      <th>9</th>\n",
       "    </tr>\n",
       "  </thead>\n",
       "  <tbody>\n",
       "    <tr>\n",
       "      <th>0</th>\n",
       "      <td>0.710484</td>\n",
       "      <td>0.973470</td>\n",
       "      <td>0.482386</td>\n",
       "      <td>0.891683</td>\n",
       "      <td>0.867839</td>\n",
       "      <td>0.990432</td>\n",
       "      <td>0.359027</td>\n",
       "      <td>0.112140</td>\n",
       "      <td>0.198683</td>\n",
       "      <td>0.690664</td>\n",
       "    </tr>\n",
       "    <tr>\n",
       "      <th>1</th>\n",
       "      <td>0.968620</td>\n",
       "      <td>0.720616</td>\n",
       "      <td>0.541060</td>\n",
       "      <td>0.424444</td>\n",
       "      <td>0.855290</td>\n",
       "      <td>0.610129</td>\n",
       "      <td>0.520557</td>\n",
       "      <td>0.558411</td>\n",
       "      <td>0.739468</td>\n",
       "      <td>0.250580</td>\n",
       "    </tr>\n",
       "    <tr>\n",
       "      <th>2</th>\n",
       "      <td>0.884098</td>\n",
       "      <td>0.252336</td>\n",
       "      <td>0.746763</td>\n",
       "      <td>0.609432</td>\n",
       "      <td>0.860204</td>\n",
       "      <td>0.480470</td>\n",
       "      <td>0.072424</td>\n",
       "      <td>0.816607</td>\n",
       "      <td>0.813853</td>\n",
       "      <td>0.161606</td>\n",
       "    </tr>\n",
       "    <tr>\n",
       "      <th>3</th>\n",
       "      <td>0.903385</td>\n",
       "      <td>0.876142</td>\n",
       "      <td>0.143305</td>\n",
       "      <td>0.233444</td>\n",
       "      <td>0.969096</td>\n",
       "      <td>0.589572</td>\n",
       "      <td>0.431036</td>\n",
       "      <td>0.389289</td>\n",
       "      <td>0.856202</td>\n",
       "      <td>0.312584</td>\n",
       "    </tr>\n",
       "    <tr>\n",
       "      <th>4</th>\n",
       "      <td>0.135023</td>\n",
       "      <td>0.031668</td>\n",
       "      <td>0.196938</td>\n",
       "      <td>0.513420</td>\n",
       "      <td>0.100070</td>\n",
       "      <td>0.783645</td>\n",
       "      <td>0.551121</td>\n",
       "      <td>0.976596</td>\n",
       "      <td>0.980991</td>\n",
       "      <td>0.176619</td>\n",
       "    </tr>\n",
       "  </tbody>\n",
       "</table>\n",
       "</div>"
      ],
      "text/plain": [
       "          0         1         2         3         4         5         6  \\\n",
       "0  0.710484  0.973470  0.482386  0.891683  0.867839  0.990432  0.359027   \n",
       "1  0.968620  0.720616  0.541060  0.424444  0.855290  0.610129  0.520557   \n",
       "2  0.884098  0.252336  0.746763  0.609432  0.860204  0.480470  0.072424   \n",
       "3  0.903385  0.876142  0.143305  0.233444  0.969096  0.589572  0.431036   \n",
       "4  0.135023  0.031668  0.196938  0.513420  0.100070  0.783645  0.551121   \n",
       "\n",
       "          7         8         9  \n",
       "0  0.112140  0.198683  0.690664  \n",
       "1  0.558411  0.739468  0.250580  \n",
       "2  0.816607  0.813853  0.161606  \n",
       "3  0.389289  0.856202  0.312584  \n",
       "4  0.976596  0.980991  0.176619  "
      ]
     },
     "execution_count": 2,
     "metadata": {},
     "output_type": "execute_result"
    }
   ],
   "source": [
    "# 10列 x 100行のDataFrame\n",
    "raw_data = numpy.random.rand(100, 10)\n",
    "dataset = pandas.DataFrame(raw_data)\n",
    "\n",
    "dataset.head()"
   ]
  },
  {
   "cell_type": "markdown",
   "metadata": {},
   "source": [
    "## Remove random cell"
   ]
  },
  {
   "cell_type": "code",
   "execution_count": 3,
   "metadata": {},
   "outputs": [],
   "source": [
    "# 与えられたDataFrameのランダムな位置を欠損させる\n",
    "def remove_random_cell(dataframe):\n",
    "    target_index = numpy.random.choice(dataframe.index)\n",
    "    target_column = numpy.random.choice(dataframe.columns)\n",
    "\n",
    "    dataframe.loc[target_index, target_column] = None"
   ]
  },
  {
   "cell_type": "code",
   "execution_count": 4,
   "metadata": {},
   "outputs": [],
   "source": [
    "# 100回実行\n",
    "for _ in range(100):\n",
    "    remove_random_cell(dataset)"
   ]
  },
  {
   "cell_type": "code",
   "execution_count": 19,
   "metadata": {},
   "outputs": [
    {
     "data": {
      "text/html": [
       "<div>\n",
       "<style scoped>\n",
       "    .dataframe tbody tr th:only-of-type {\n",
       "        vertical-align: middle;\n",
       "    }\n",
       "\n",
       "    .dataframe tbody tr th {\n",
       "        vertical-align: top;\n",
       "    }\n",
       "\n",
       "    .dataframe thead th {\n",
       "        text-align: right;\n",
       "    }\n",
       "</style>\n",
       "<table border=\"1\" class=\"dataframe\">\n",
       "  <thead>\n",
       "    <tr style=\"text-align: right;\">\n",
       "      <th></th>\n",
       "      <th>0</th>\n",
       "      <th>1</th>\n",
       "      <th>2</th>\n",
       "      <th>3</th>\n",
       "      <th>4</th>\n",
       "      <th>5</th>\n",
       "      <th>6</th>\n",
       "      <th>7</th>\n",
       "      <th>8</th>\n",
       "      <th>9</th>\n",
       "    </tr>\n",
       "  </thead>\n",
       "  <tbody>\n",
       "    <tr>\n",
       "      <th>0</th>\n",
       "      <td>0.710484</td>\n",
       "      <td>0.973470</td>\n",
       "      <td>0.482386</td>\n",
       "      <td>0.891683</td>\n",
       "      <td>0.867839</td>\n",
       "      <td>0.990432</td>\n",
       "      <td>0.359027</td>\n",
       "      <td>0.112140</td>\n",
       "      <td>0.198683</td>\n",
       "      <td>0.690664</td>\n",
       "    </tr>\n",
       "    <tr>\n",
       "      <th>1</th>\n",
       "      <td>0.968620</td>\n",
       "      <td>0.720616</td>\n",
       "      <td>0.541060</td>\n",
       "      <td>0.424444</td>\n",
       "      <td>0.855290</td>\n",
       "      <td>0.610129</td>\n",
       "      <td>0.520557</td>\n",
       "      <td>0.558411</td>\n",
       "      <td>0.739468</td>\n",
       "      <td>0.250580</td>\n",
       "    </tr>\n",
       "    <tr>\n",
       "      <th>2</th>\n",
       "      <td>NaN</td>\n",
       "      <td>0.252336</td>\n",
       "      <td>0.746763</td>\n",
       "      <td>0.609432</td>\n",
       "      <td>0.860204</td>\n",
       "      <td>0.480470</td>\n",
       "      <td>0.072424</td>\n",
       "      <td>0.816607</td>\n",
       "      <td>0.813853</td>\n",
       "      <td>0.161606</td>\n",
       "    </tr>\n",
       "    <tr>\n",
       "      <th>3</th>\n",
       "      <td>0.903385</td>\n",
       "      <td>0.876142</td>\n",
       "      <td>0.143305</td>\n",
       "      <td>0.233444</td>\n",
       "      <td>0.969096</td>\n",
       "      <td>0.589572</td>\n",
       "      <td>0.431036</td>\n",
       "      <td>NaN</td>\n",
       "      <td>0.856202</td>\n",
       "      <td>0.312584</td>\n",
       "    </tr>\n",
       "    <tr>\n",
       "      <th>4</th>\n",
       "      <td>0.135023</td>\n",
       "      <td>NaN</td>\n",
       "      <td>0.196938</td>\n",
       "      <td>0.513420</td>\n",
       "      <td>0.100070</td>\n",
       "      <td>0.783645</td>\n",
       "      <td>0.551121</td>\n",
       "      <td>0.976596</td>\n",
       "      <td>0.980991</td>\n",
       "      <td>NaN</td>\n",
       "    </tr>\n",
       "  </tbody>\n",
       "</table>\n",
       "</div>"
      ],
      "text/plain": [
       "          0         1         2         3         4         5         6  \\\n",
       "0  0.710484  0.973470  0.482386  0.891683  0.867839  0.990432  0.359027   \n",
       "1  0.968620  0.720616  0.541060  0.424444  0.855290  0.610129  0.520557   \n",
       "2       NaN  0.252336  0.746763  0.609432  0.860204  0.480470  0.072424   \n",
       "3  0.903385  0.876142  0.143305  0.233444  0.969096  0.589572  0.431036   \n",
       "4  0.135023       NaN  0.196938  0.513420  0.100070  0.783645  0.551121   \n",
       "\n",
       "          7         8         9  \n",
       "0  0.112140  0.198683  0.690664  \n",
       "1  0.558411  0.739468  0.250580  \n",
       "2  0.816607  0.813853  0.161606  \n",
       "3       NaN  0.856202  0.312584  \n",
       "4  0.976596  0.980991       NaN  "
      ]
     },
     "execution_count": 19,
     "metadata": {},
     "output_type": "execute_result"
    }
   ],
   "source": [
    "dataset.head()"
   ]
  },
  {
   "cell_type": "code",
   "execution_count": 5,
   "metadata": {},
   "outputs": [
    {
     "data": {
      "text/plain": [
       "0     8\n",
       "1     9\n",
       "2    15\n",
       "3     5\n",
       "4    13\n",
       "5     8\n",
       "6     8\n",
       "7    10\n",
       "8     5\n",
       "9    11\n",
       "dtype: int64"
      ]
     },
     "execution_count": 5,
     "metadata": {},
     "output_type": "execute_result"
    }
   ],
   "source": [
    "dataset.isnull().sum()"
   ]
  },
  {
   "cell_type": "code",
   "execution_count": 6,
   "metadata": {},
   "outputs": [
    {
     "data": {
      "text/plain": [
       "92"
      ]
     },
     "execution_count": 6,
     "metadata": {},
     "output_type": "execute_result"
    }
   ],
   "source": [
    "dataset.isnull().sum().sum()  # 同じ場所がRemoveされる事があるので100個弱消えている"
   ]
  },
  {
   "cell_type": "markdown",
   "metadata": {},
   "source": [
    "## calc null rate"
   ]
  },
  {
   "cell_type": "code",
   "execution_count": 23,
   "metadata": {},
   "outputs": [],
   "source": [
    "null_count = dataset.isnull().sum()\n",
    "null_rate = null_count / len(dataset)"
   ]
  },
  {
   "cell_type": "code",
   "execution_count": 29,
   "metadata": {},
   "outputs": [
    {
     "data": {
      "text/html": [
       "<div>\n",
       "<style scoped>\n",
       "    .dataframe tbody tr th:only-of-type {\n",
       "        vertical-align: middle;\n",
       "    }\n",
       "\n",
       "    .dataframe tbody tr th {\n",
       "        vertical-align: top;\n",
       "    }\n",
       "\n",
       "    .dataframe thead th {\n",
       "        text-align: right;\n",
       "    }\n",
       "</style>\n",
       "<table border=\"1\" class=\"dataframe\">\n",
       "  <thead>\n",
       "    <tr style=\"text-align: right;\">\n",
       "      <th></th>\n",
       "      <th>null_couunt</th>\n",
       "      <th>null_rate</th>\n",
       "    </tr>\n",
       "  </thead>\n",
       "  <tbody>\n",
       "    <tr>\n",
       "      <th>2</th>\n",
       "      <td>15</td>\n",
       "      <td>0.15</td>\n",
       "    </tr>\n",
       "    <tr>\n",
       "      <th>4</th>\n",
       "      <td>13</td>\n",
       "      <td>0.13</td>\n",
       "    </tr>\n",
       "    <tr>\n",
       "      <th>9</th>\n",
       "      <td>11</td>\n",
       "      <td>0.11</td>\n",
       "    </tr>\n",
       "    <tr>\n",
       "      <th>7</th>\n",
       "      <td>10</td>\n",
       "      <td>0.10</td>\n",
       "    </tr>\n",
       "    <tr>\n",
       "      <th>1</th>\n",
       "      <td>9</td>\n",
       "      <td>0.09</td>\n",
       "    </tr>\n",
       "    <tr>\n",
       "      <th>0</th>\n",
       "      <td>8</td>\n",
       "      <td>0.08</td>\n",
       "    </tr>\n",
       "    <tr>\n",
       "      <th>5</th>\n",
       "      <td>8</td>\n",
       "      <td>0.08</td>\n",
       "    </tr>\n",
       "    <tr>\n",
       "      <th>6</th>\n",
       "      <td>8</td>\n",
       "      <td>0.08</td>\n",
       "    </tr>\n",
       "    <tr>\n",
       "      <th>3</th>\n",
       "      <td>5</td>\n",
       "      <td>0.05</td>\n",
       "    </tr>\n",
       "    <tr>\n",
       "      <th>8</th>\n",
       "      <td>5</td>\n",
       "      <td>0.05</td>\n",
       "    </tr>\n",
       "  </tbody>\n",
       "</table>\n",
       "</div>"
      ],
      "text/plain": [
       "   null_couunt  null_rate\n",
       "2           15       0.15\n",
       "4           13       0.13\n",
       "9           11       0.11\n",
       "7           10       0.10\n",
       "1            9       0.09\n",
       "0            8       0.08\n",
       "5            8       0.08\n",
       "6            8       0.08\n",
       "3            5       0.05\n",
       "8            5       0.05"
      ]
     },
     "execution_count": 29,
     "metadata": {},
     "output_type": "execute_result"
    }
   ],
   "source": [
    "null_table = pandas.DataFrame({'null_couunt': null_count, 'null_rate': null_rate})\n",
    "\n",
    "null_table.sort_values(by='null_rate', ascending=False)"
   ]
  }
 ],
 "metadata": {
  "kernelspec": {
   "display_name": "Python 3",
   "language": "python",
   "name": "python3"
  },
  "language_info": {
   "codemirror_mode": {
    "name": "ipython",
    "version": 3
   },
   "file_extension": ".py",
   "mimetype": "text/x-python",
   "name": "python",
   "nbconvert_exporter": "python",
   "pygments_lexer": "ipython3",
   "version": "3.6.5"
  }
 },
 "nbformat": 4,
 "nbformat_minor": 2
}
